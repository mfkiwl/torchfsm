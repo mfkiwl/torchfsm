{
 "cells": [
  {
   "cell_type": "code",
   "execution_count": null,
   "metadata": {},
   "outputs": [],
   "source": [
    "from torchfsm.functional import vorticity2pressure,velocity2pressure\n",
    "from torchfsm.operator.dedicated._navier_stokes import Vorticity2Pressure,Velocity2Pressure\n",
    "from torchfsm.mesh import FourierMesh"
   ]
  },
  {
   "cell_type": "code",
   "execution_count": 2,
   "metadata": {},
   "outputs": [
    {
     "name": "stdout",
     "output_type": "stream",
     "text": [
      "True\n",
      "tensor(0.)\n"
     ]
    }
   ],
   "source": [
    "import torch\n",
    "test_field=torch.randn(1,1,32,32)\n",
    "mesh=[\n",
    "    (0,32,32),\n",
    "    (0,32,32),\n",
    "]\n",
    "a=vorticity2pressure(test_field,mesh=mesh)\n",
    "v=Vorticity2Pressure()(test_field,mesh=mesh)\n",
    "print(torch.allclose(a,v))\n",
    "print((a-v).abs().mean())"
   ]
  },
  {
   "cell_type": "code",
   "execution_count": 3,
   "metadata": {},
   "outputs": [
    {
     "name": "stdout",
     "output_type": "stream",
     "text": [
      "tensor(0.3291-2.2352e-08j)\n",
      "True\n",
      "tensor([[[[0., 0., 0.,  ..., 0., 0., 0.],\n",
      "          [0., 0., 0.,  ..., 0., 0., 0.],\n",
      "          [0., 0., 0.,  ..., 0., 0., 0.],\n",
      "          ...,\n",
      "          [0., 0., 0.,  ..., 0., 0., 0.],\n",
      "          [0., 0., 0.,  ..., 0., 0., 0.],\n",
      "          [0., 0., 0.,  ..., 0., 0., 0.]]]])\n"
     ]
    }
   ],
   "source": [
    "import torch\n",
    "test_field=torch.randn(1,2,32,32)\n",
    "mesh=[\n",
    "    (0,32,32),\n",
    "    (0,32,32),\n",
    "]\n",
    "mesh=FourierMesh(mesh,device=\"cpu\")\n",
    "print(mesh.fft(test_field).mean())\n",
    "a=velocity2pressure(test_field,mesh=mesh)\n",
    "v=Velocity2Pressure()(test_field,mesh=mesh)\n",
    "print(torch.allclose(a,v))\n",
    "print(a-v)"
   ]
  },
  {
   "cell_type": "code",
   "execution_count": 4,
   "metadata": {},
   "outputs": [
    {
     "name": "stdout",
     "output_type": "stream",
     "text": [
      "True\n",
      "tensor(0.)\n"
     ]
    }
   ],
   "source": [
    "from torchfsm.field import kolm_force\n",
    "from torchfsm.mesh import MeshGrid\n",
    "import torch\n",
    "test_field=torch.randn(1,1,32,32)\n",
    "mesh=MeshGrid([\n",
    "    (0,32,32),\n",
    "    (0,32,32),\n",
    "])\n",
    "x,y=mesh.bc_mesh_grid()\n",
    "force=kolm_force(x)\n",
    "a=vorticity2pressure(test_field,mesh=mesh,external_force=force)\n",
    "v=Vorticity2Pressure(external_force=force)(test_field,mesh=mesh)\n",
    "print(torch.allclose(a,v))\n",
    "print((a-v).abs().mean())"
   ]
  },
  {
   "cell_type": "code",
   "execution_count": 13,
   "metadata": {},
   "outputs": [
    {
     "name": "stdout",
     "output_type": "stream",
     "text": [
      "1\n"
     ]
    },
    {
     "data": {
      "text/plain": [
       "True"
      ]
     },
     "execution_count": 13,
     "metadata": {},
     "output_type": "execute_result"
    }
   ],
   "source": [
    "from enum import Enum\n",
    "\n",
    "class A():\n",
    "\n",
    "    def __init__(self,para_a):\n",
    "        print(para_a)\n",
    "\n",
    "    def func(self):\n",
    "        print(\"func\")\n",
    "\n",
    "class B():\n",
    "\n",
    "    def __init__(self,para_b):\n",
    "        print(para_b)\n",
    "\n",
    "class EnumClass(Enum):\n",
    "    A=A\n",
    "    B=B\n",
    "\n",
    "a=EnumClass.A\n",
    "a.value(1)\n",
    "isinstance(a,EnumClass)"
   ]
  },
  {
   "cell_type": "code",
   "execution_count": 8,
   "metadata": {},
   "outputs": [
    {
     "name": "stdout",
     "output_type": "stream",
     "text": [
      "2\n",
      "{}\n"
     ]
    }
   ],
   "source": [
    "def funca(para_a,**kwargs):\n",
    "    print(para_a)\n",
    "    print(kwargs)\n",
    "\n",
    "funca(2)"
   ]
  },
  {
   "cell_type": "code",
   "execution_count": 14,
   "metadata": {},
   "outputs": [
    {
     "data": {
      "text/plain": [
       "{'a': 2, 'b': 3}"
      ]
     },
     "execution_count": 14,
     "metadata": {},
     "output_type": "execute_result"
    }
   ],
   "source": [
    "a={\"a\":1,\"b\":2}\n",
    "a.update({\"a\":2,\"b\":3})\n",
    "a"
   ]
  }
 ],
 "metadata": {
  "kernelspec": {
   "display_name": "deeplearning",
   "language": "python",
   "name": "python3"
  },
  "language_info": {
   "codemirror_mode": {
    "name": "ipython",
    "version": 3
   },
   "file_extension": ".py",
   "mimetype": "text/x-python",
   "name": "python",
   "nbconvert_exporter": "python",
   "pygments_lexer": "ipython3",
   "version": "3.10.14"
  }
 },
 "nbformat": 4,
 "nbformat_minor": 2
}
