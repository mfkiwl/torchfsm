{
 "cells": [
  {
   "cell_type": "markdown",
   "metadata": {},
   "source": [
    "Placeholder for a tutorial I want to write, explaining Fourier pseudo-spectral\n",
    "ETDRK methods from the ground up."
   ]
  },
  {
   "cell_type": "code",
   "execution_count": null,
   "metadata": {},
   "outputs": [],
   "source": []
  }
 ],
 "metadata": {
  "language_info": {
   "name": "python"
  }
 },
 "nbformat": 4,
 "nbformat_minor": 2
}
