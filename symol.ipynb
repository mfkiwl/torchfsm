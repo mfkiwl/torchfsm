{
 "cells": [
  {
   "cell_type": "code",
   "execution_count": 3,
   "metadata": {},
   "outputs": [],
   "source": [
    "from sympy import *\n",
    "x,y,z=symbols(\"x,y,z\")\n",
    "p=sin(x)+cos(y)+sin(z)+cos(z)\n",
    "ux=sin(x)\n",
    "uy=cos(y)\n",
    "uz=sin(z)+cos(z)"
   ]
  },
  {
   "cell_type": "code",
   "execution_count": 1,
   "metadata": {},
   "outputs": [
    {
     "data": {
      "text/plain": [
       "(device(type='cpu'), torch.float32)"
      ]
     },
     "execution_count": 1,
     "metadata": {},
     "output_type": "execute_result"
    }
   ],
   "source": [
    "import torch\n",
    "a=torch.tensor([1,2,3],dtype=torch.float32)\n",
    "device=a.device\n",
    "dtype=a.dtype\n",
    "del a\n",
    "torch.cuda.empty_cache()\n",
    "device,dtype"
   ]
  },
  {
   "cell_type": "code",
   "execution_count": 4,
   "metadata": {},
   "outputs": [],
   "source": [
    "from sympy import *\n",
    "x=symbols(\"x\")"
   ]
  },
  {
   "cell_type": "code",
   "execution_count": 5,
   "metadata": {},
   "outputs": [
    {
     "data": {
      "text/latex": [
       "$\\displaystyle \\left(\\sin{\\left(x \\right)} + \\sin{\\left(4 x \\right)}\\right)^{2}$"
      ],
      "text/plain": [
       "(sin(x) + sin(4*x))**2"
      ]
     },
     "execution_count": 5,
     "metadata": {},
     "output_type": "execute_result"
    }
   ],
   "source": [
    "(sin(x)+sin(4*x))**2"
   ]
  },
  {
   "cell_type": "code",
   "execution_count": 6,
   "metadata": {},
   "outputs": [
    {
     "name": "stdout",
     "output_type": "stream",
     "text": [
      "x = Symbol('x')\n",
      "e = (sin(2*x) + sin(4*x))*(4*cos(2*x) + 8*cos(4*x))\n"
     ]
    }
   ],
   "source": [
    "print_python(diff((sin(2*x)+sin(4*x))**2,x))"
   ]
  },
  {
   "cell_type": "code",
   "execution_count": 3,
   "metadata": {},
   "outputs": [
    {
     "name": "stdout",
     "output_type": "stream",
     "text": [
      "x = Symbol('x')\n",
      "e = sin(x)\n",
      "y = Symbol('y')\n",
      "e = cos(y)\n",
      "z = Symbol('z')\n",
      "e = sin(z) + cos(z)\n"
     ]
    }
   ],
   "source": [
    "def bilaplacian(u):\n",
    "    return diff(u,x,4)+diff(u,y,4)+diff(u,z,4)+2*diff(u,x,2,y,2)+2*diff(u,x,2,z,2)+2*diff(u,y,2,z,2)\n",
    "print_python(bilaplacian(ux))\n",
    "print_python(bilaplacian(uy))\n",
    "print_python(bilaplacian(uz))"
   ]
  },
  {
   "cell_type": "code",
   "execution_count": 3,
   "metadata": {},
   "outputs": [],
   "source": [
    "uxx=ux*ux\n",
    "uyy=uy*uy\n",
    "uzz=uz*uz\n",
    "uxy=uyx=ux*uy\n",
    "uxz=uzx=ux*uz\n",
    "uyz=uzy=uy*uz\n"
   ]
  },
  {
   "cell_type": "code",
   "execution_count": 4,
   "metadata": {},
   "outputs": [
    {
     "name": "stdout",
     "output_type": "stream",
     "text": [
      "x = Symbol('x')\n",
      "e = sin(x)*cos(x)\n"
     ]
    }
   ],
   "source": [
    "print_python(ux*ux.diff(x)+uy*ux.diff(y)+uz*ux.diff(z))"
   ]
  },
  {
   "cell_type": "code",
   "execution_count": 5,
   "metadata": {},
   "outputs": [
    {
     "name": "stdout",
     "output_type": "stream",
     "text": [
      "y = Symbol('y')\n",
      "e = -sin(y)*cos(y)\n"
     ]
    }
   ],
   "source": [
    "print_python(ux*uy.diff(x)+uy*uy.diff(y)+uz*uy.diff(z))"
   ]
  },
  {
   "cell_type": "code",
   "execution_count": 6,
   "metadata": {},
   "outputs": [
    {
     "name": "stdout",
     "output_type": "stream",
     "text": [
      "z = Symbol('z')\n",
      "e = (-sin(z) + cos(z))*(sin(z) + cos(z))\n"
     ]
    }
   ],
   "source": [
    "print_python(ux*uz.diff(x)+uy*uz.diff(y)+uz*uz.diff(z))"
   ]
  },
  {
   "cell_type": "code",
   "execution_count": 7,
   "metadata": {},
   "outputs": [
    {
     "name": "stdout",
     "output_type": "stream",
     "text": [
      "z = Symbol('z')\n",
      "x = Symbol('x')\n",
      "y = Symbol('y')\n",
      "e = (-sin(z) + cos(z))*sin(x) - sin(x)*sin(y) + 2*sin(x)*cos(x)\n"
     ]
    }
   ],
   "source": [
    "print_python(uxx.diff(x)+uyx.diff(y)+uzx.diff(z))"
   ]
  },
  {
   "cell_type": "code",
   "execution_count": 8,
   "metadata": {},
   "outputs": [
    {
     "name": "stdout",
     "output_type": "stream",
     "text": [
      "z = Symbol('z')\n",
      "y = Symbol('y')\n",
      "x = Symbol('x')\n",
      "e = (-sin(z) + cos(z))*cos(y) - 2*sin(y)*cos(y) + cos(x)*cos(y)\n"
     ]
    }
   ],
   "source": [
    "print_python(uxy.diff(x)+uyy.diff(y)+uzy.diff(z))"
   ]
  },
  {
   "cell_type": "code",
   "execution_count": 9,
   "metadata": {},
   "outputs": [
    {
     "name": "stdout",
     "output_type": "stream",
     "text": [
      "z = Symbol('z')\n",
      "y = Symbol('y')\n",
      "x = Symbol('x')\n",
      "e = (-2*sin(z) + 2*cos(z))*(sin(z) + cos(z)) - (sin(z) + cos(z))*sin(y) + (sin(z) + cos(z))*cos(x)\n"
     ]
    }
   ],
   "source": [
    "print_python(uxz.diff(x)+uyz.diff(y)+uzz.diff(z))"
   ]
  },
  {
   "cell_type": "code",
   "execution_count": 11,
   "metadata": {},
   "outputs": [
    {
     "data": {
      "text/plain": [
       "tensor([-1.8929e-04, -4.0348e-05, -5.4492e-06])"
      ]
     },
     "execution_count": 11,
     "metadata": {},
     "output_type": "execute_result"
    }
   ],
   "source": [
    "import torch\n",
    "\n",
    "a=torch.randn(10,100,3,128,128)\n",
    "b=torch.randn(5,150,3,128,128)\n",
    "new_shape=tuple([-1]+list(a.shape[2:]))\n",
    "new_data=torch.cat([a.view(*new_shape),b.view(*new_shape)],dim=0)\n",
    "new_data.shape\n",
    "# calculate the mean for each channel, the input shape is [B,C,H,w,...] and the output shape is [C]:\n",
    "mean_channel=[new_data[:,i].mean() for i in range(new_data.shape[1])]\n",
    "mean_channel=torch.stack(mean_channel)\n",
    "mean_channel"
   ]
  },
  {
   "cell_type": "code",
   "execution_count": 23,
   "metadata": {},
   "outputs": [
    {
     "data": {
      "text/plain": [
       "tensor([[[1., 1., 1.,  ..., 1., 1., 1.],\n",
       "         [1., 1., 1.,  ..., 1., 1., 1.],\n",
       "         [1., 1., 1.,  ..., 1., 1., 1.],\n",
       "         ...,\n",
       "         [1., 1., 1.,  ..., 1., 1., 1.],\n",
       "         [1., 1., 1.,  ..., 1., 1., 1.],\n",
       "         [1., 1., 1.,  ..., 1., 1., 1.]],\n",
       "\n",
       "        [[1., 1., 1.,  ..., 1., 1., 1.],\n",
       "         [1., 1., 1.,  ..., 1., 1., 1.],\n",
       "         [1., 1., 1.,  ..., 1., 1., 1.],\n",
       "         ...,\n",
       "         [1., 1., 1.,  ..., 1., 1., 1.],\n",
       "         [1., 1., 1.,  ..., 1., 1., 1.],\n",
       "         [1., 1., 1.,  ..., 1., 1., 1.]],\n",
       "\n",
       "        [[1., 1., 1.,  ..., 1., 1., 1.],\n",
       "         [1., 1., 1.,  ..., 1., 1., 1.],\n",
       "         [1., 1., 1.,  ..., 1., 1., 1.],\n",
       "         ...,\n",
       "         [1., 1., 1.,  ..., 1., 1., 1.],\n",
       "         [1., 1., 1.,  ..., 1., 1., 1.],\n",
       "         [1., 1., 1.,  ..., 1., 1., 1.]],\n",
       "\n",
       "        [[1., 1., 1.,  ..., 1., 1., 1.],\n",
       "         [1., 1., 1.,  ..., 1., 1., 1.],\n",
       "         [1., 1., 1.,  ..., 1., 1., 1.],\n",
       "         ...,\n",
       "         [1., 1., 1.,  ..., 1., 1., 1.],\n",
       "         [1., 1., 1.,  ..., 1., 1., 1.],\n",
       "         [1., 1., 1.,  ..., 1., 1., 1.]],\n",
       "\n",
       "        [[1., 1., 1.,  ..., 1., 1., 1.],\n",
       "         [1., 1., 1.,  ..., 1., 1., 1.],\n",
       "         [1., 1., 1.,  ..., 1., 1., 1.],\n",
       "         ...,\n",
       "         [1., 1., 1.,  ..., 1., 1., 1.],\n",
       "         [1., 1., 1.,  ..., 1., 1., 1.],\n",
       "         [1., 1., 1.,  ..., 1., 1., 1.]]])"
      ]
     },
     "execution_count": 23,
     "metadata": {},
     "output_type": "execute_result"
    }
   ],
   "source": [
    "a=torch.tensor([1,2,3])\n",
    "b=torch.ones(5,3,64,64)\n",
    "c=(a.view(3,1,1)*b)\n",
    "c[:,0,...]"
   ]
  }
 ],
 "metadata": {
  "kernelspec": {
   "display_name": "deeplearning",
   "language": "python",
   "name": "python3"
  },
  "language_info": {
   "codemirror_mode": {
    "name": "ipython",
    "version": 3
   },
   "file_extension": ".py",
   "mimetype": "text/x-python",
   "name": "python",
   "nbconvert_exporter": "python",
   "pygments_lexer": "ipython3",
   "version": "3.10.14"
  }
 },
 "nbformat": 4,
 "nbformat_minor": 2
}
