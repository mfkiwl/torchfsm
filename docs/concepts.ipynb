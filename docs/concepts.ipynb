{
 "cells": [
  {
   "cell_type": "markdown",
   "metadata": {
    "vscode": {
     "languageId": "plaintext"
    }
   },
   "source": [
    "# Concepts\n",
    "There are several key concepts in `torchfsm`, which are key components to construct and solve a PDE. By properly using these components, we can utilize `torchfsm` in a very efficient way.\n",
    "\n",
    "## Operator\n",
    "\n",
    "`Operator` is the key concept in `torchfsm`. It represents a **spatial** operation of a variable. For example, the gradient operator is an operator that computes the gradient of a variable. The divergence operator is an operator that computes the divergence of a variable. The laplacian operator is an operator that computes the laplacian of a variable. \n",
    "\n",
    "In `torchfsm`, there are three types of operator classes: `LinearOperator`, `NonlinearOperator` and `Operator`. `LinearOperator` class represents a linear terms in the context of Fourier Spectal method (See our [Theory Introduction](../theory/#linear-terms)). `NonlinearOperator` class represents a nonlinear terms in the context of Fourier Spectal method. `Operator` class is a combined operator that both contains linear and nonlinear terms.\n",
    "\n",
    "All `Operator` class supports basic linear algebra operations, such as addition, subtraction and multiplication. Thanks to the linear feature of Fourier transformation, we can construct a PDE with different `Operator`s efficiently. For example, we can construct a [Burgers equation](https://en.wikipedia.org/wiki/Burgers%27_equation), $\\frac{\\partial \\mathbf{u}}{\\partial t}=-\\mathbf{u} \\cdot \\nabla \\mathbf{u} + \\nu \\nabla^2 \\mathbf{u}$, as follows:"
   ]
  },
  {
   "cell_type": "code",
   "execution_count": null,
   "metadata": {},
   "outputs": [],
   "source": [
    "from torchfsm.operator import Operator, Convection, Laplacian\n",
    "\n",
    "def Burgers(nu:float) -> Operator:\n",
    "    return nu*Laplacian()-Convection()\n",
    "burgers=Burgers(0.01)"
   ]
  },
  {
   "cell_type": "markdown",
   "metadata": {},
   "source": [
    "There are three important functions for `Operator` classes:\n",
    "\n",
    "* `__call__`: Directly call the operator as a function will return the value of the operator applied to the input. This can be used to evaluate complex spatial derivatives.\n",
    "* `integrate`: Integrate the operator in the time dimension. This is mainly used to solve time-dependent PDEs. \n",
    "* `solve`: Solve the linear operation with a given right-hand side. This only works for `LinearOperator` class and can be used to solve time-independent problems, such as Poisson equation.\n",
    "\n",
    "In the later sections, we will further explain how to use these functions one by one.\n",
    "\n",
    "All avaliable operators in `torchfsm` are summarized in the [cheet sheet](../cheetsheet/#operators)."
   ]
  }
 ],
 "metadata": {
  "kernelspec": {
   "display_name": "deeplearning",
   "language": "python",
   "name": "python3"
  },
  "language_info": {
   "name": "python",
   "version": "3.10.14"
  }
 },
 "nbformat": 4,
 "nbformat_minor": 2
}
